{
 "cells": [
  {
   "cell_type": "code",
   "execution_count": 42,
   "id": "21c25251",
   "metadata": {},
   "outputs": [],
   "source": [
    "import pandas as pd\n",
    "import numpy as np\n",
    "import matplotlib.pyplot as plt\n",
    "import seaborn as sns\n",
    "import warnings\n",
    "warnings.filterwarnings('ignore')\n",
    "%matplotlib inline"
   ]
  },
  {
   "cell_type": "code",
   "execution_count": 2,
   "id": "f9d9d991",
   "metadata": {},
   "outputs": [
    {
     "data": {
      "text/html": [
       "<div>\n",
       "<style scoped>\n",
       "    .dataframe tbody tr th:only-of-type {\n",
       "        vertical-align: middle;\n",
       "    }\n",
       "\n",
       "    .dataframe tbody tr th {\n",
       "        vertical-align: top;\n",
       "    }\n",
       "\n",
       "    .dataframe thead th {\n",
       "        text-align: right;\n",
       "    }\n",
       "</style>\n",
       "<table border=\"1\" class=\"dataframe\">\n",
       "  <thead>\n",
       "    <tr style=\"text-align: right;\">\n",
       "      <th></th>\n",
       "      <th>Area</th>\n",
       "      <th>Perimeter</th>\n",
       "      <th>MajorAxisLength</th>\n",
       "      <th>MinorAxisLength</th>\n",
       "      <th>AspectRation</th>\n",
       "      <th>Eccentricity</th>\n",
       "      <th>ConvexArea</th>\n",
       "      <th>EquivDiameter</th>\n",
       "      <th>Extent</th>\n",
       "      <th>Solidity</th>\n",
       "      <th>roundness</th>\n",
       "      <th>Compactness</th>\n",
       "      <th>ShapeFactor1</th>\n",
       "      <th>ShapeFactor2</th>\n",
       "      <th>ShapeFactor3</th>\n",
       "      <th>ShapeFactor4</th>\n",
       "      <th>Class</th>\n",
       "    </tr>\n",
       "  </thead>\n",
       "  <tbody>\n",
       "    <tr>\n",
       "      <th>0</th>\n",
       "      <td>28395</td>\n",
       "      <td>610.291</td>\n",
       "      <td>208.178117</td>\n",
       "      <td>173.888747</td>\n",
       "      <td>1.197191</td>\n",
       "      <td>0.549812</td>\n",
       "      <td>28715</td>\n",
       "      <td>190.141097</td>\n",
       "      <td>0.763923</td>\n",
       "      <td>0.988856</td>\n",
       "      <td>0.958027</td>\n",
       "      <td>0.913358</td>\n",
       "      <td>0.007332</td>\n",
       "      <td>0.003147</td>\n",
       "      <td>0.834222</td>\n",
       "      <td>0.998724</td>\n",
       "      <td>SEKER</td>\n",
       "    </tr>\n",
       "    <tr>\n",
       "      <th>1</th>\n",
       "      <td>28734</td>\n",
       "      <td>638.018</td>\n",
       "      <td>200.524796</td>\n",
       "      <td>182.734419</td>\n",
       "      <td>1.097356</td>\n",
       "      <td>0.411785</td>\n",
       "      <td>29172</td>\n",
       "      <td>191.272750</td>\n",
       "      <td>0.783968</td>\n",
       "      <td>0.984986</td>\n",
       "      <td>0.887034</td>\n",
       "      <td>0.953861</td>\n",
       "      <td>0.006979</td>\n",
       "      <td>0.003564</td>\n",
       "      <td>0.909851</td>\n",
       "      <td>0.998430</td>\n",
       "      <td>SEKER</td>\n",
       "    </tr>\n",
       "    <tr>\n",
       "      <th>2</th>\n",
       "      <td>29380</td>\n",
       "      <td>624.110</td>\n",
       "      <td>212.826130</td>\n",
       "      <td>175.931143</td>\n",
       "      <td>1.209713</td>\n",
       "      <td>0.562727</td>\n",
       "      <td>29690</td>\n",
       "      <td>193.410904</td>\n",
       "      <td>0.778113</td>\n",
       "      <td>0.989559</td>\n",
       "      <td>0.947849</td>\n",
       "      <td>0.908774</td>\n",
       "      <td>0.007244</td>\n",
       "      <td>0.003048</td>\n",
       "      <td>0.825871</td>\n",
       "      <td>0.999066</td>\n",
       "      <td>SEKER</td>\n",
       "    </tr>\n",
       "    <tr>\n",
       "      <th>3</th>\n",
       "      <td>30008</td>\n",
       "      <td>645.884</td>\n",
       "      <td>210.557999</td>\n",
       "      <td>182.516516</td>\n",
       "      <td>1.153638</td>\n",
       "      <td>0.498616</td>\n",
       "      <td>30724</td>\n",
       "      <td>195.467062</td>\n",
       "      <td>0.782681</td>\n",
       "      <td>0.976696</td>\n",
       "      <td>0.903936</td>\n",
       "      <td>0.928329</td>\n",
       "      <td>0.007017</td>\n",
       "      <td>0.003215</td>\n",
       "      <td>0.861794</td>\n",
       "      <td>0.994199</td>\n",
       "      <td>SEKER</td>\n",
       "    </tr>\n",
       "    <tr>\n",
       "      <th>4</th>\n",
       "      <td>30140</td>\n",
       "      <td>620.134</td>\n",
       "      <td>201.847882</td>\n",
       "      <td>190.279279</td>\n",
       "      <td>1.060798</td>\n",
       "      <td>0.333680</td>\n",
       "      <td>30417</td>\n",
       "      <td>195.896503</td>\n",
       "      <td>0.773098</td>\n",
       "      <td>0.990893</td>\n",
       "      <td>0.984877</td>\n",
       "      <td>0.970516</td>\n",
       "      <td>0.006697</td>\n",
       "      <td>0.003665</td>\n",
       "      <td>0.941900</td>\n",
       "      <td>0.999166</td>\n",
       "      <td>SEKER</td>\n",
       "    </tr>\n",
       "    <tr>\n",
       "      <th>...</th>\n",
       "      <td>...</td>\n",
       "      <td>...</td>\n",
       "      <td>...</td>\n",
       "      <td>...</td>\n",
       "      <td>...</td>\n",
       "      <td>...</td>\n",
       "      <td>...</td>\n",
       "      <td>...</td>\n",
       "      <td>...</td>\n",
       "      <td>...</td>\n",
       "      <td>...</td>\n",
       "      <td>...</td>\n",
       "      <td>...</td>\n",
       "      <td>...</td>\n",
       "      <td>...</td>\n",
       "      <td>...</td>\n",
       "      <td>...</td>\n",
       "    </tr>\n",
       "    <tr>\n",
       "      <th>13606</th>\n",
       "      <td>42097</td>\n",
       "      <td>759.696</td>\n",
       "      <td>288.721612</td>\n",
       "      <td>185.944705</td>\n",
       "      <td>1.552728</td>\n",
       "      <td>0.765002</td>\n",
       "      <td>42508</td>\n",
       "      <td>231.515799</td>\n",
       "      <td>0.714574</td>\n",
       "      <td>0.990331</td>\n",
       "      <td>0.916603</td>\n",
       "      <td>0.801865</td>\n",
       "      <td>0.006858</td>\n",
       "      <td>0.001749</td>\n",
       "      <td>0.642988</td>\n",
       "      <td>0.998385</td>\n",
       "      <td>DERMASON</td>\n",
       "    </tr>\n",
       "    <tr>\n",
       "      <th>13607</th>\n",
       "      <td>42101</td>\n",
       "      <td>757.499</td>\n",
       "      <td>281.576392</td>\n",
       "      <td>190.713136</td>\n",
       "      <td>1.476439</td>\n",
       "      <td>0.735702</td>\n",
       "      <td>42494</td>\n",
       "      <td>231.526798</td>\n",
       "      <td>0.799943</td>\n",
       "      <td>0.990752</td>\n",
       "      <td>0.922015</td>\n",
       "      <td>0.822252</td>\n",
       "      <td>0.006688</td>\n",
       "      <td>0.001886</td>\n",
       "      <td>0.676099</td>\n",
       "      <td>0.998219</td>\n",
       "      <td>DERMASON</td>\n",
       "    </tr>\n",
       "    <tr>\n",
       "      <th>13608</th>\n",
       "      <td>42139</td>\n",
       "      <td>759.321</td>\n",
       "      <td>281.539928</td>\n",
       "      <td>191.187979</td>\n",
       "      <td>1.472582</td>\n",
       "      <td>0.734065</td>\n",
       "      <td>42569</td>\n",
       "      <td>231.631261</td>\n",
       "      <td>0.729932</td>\n",
       "      <td>0.989899</td>\n",
       "      <td>0.918424</td>\n",
       "      <td>0.822730</td>\n",
       "      <td>0.006681</td>\n",
       "      <td>0.001888</td>\n",
       "      <td>0.676884</td>\n",
       "      <td>0.996767</td>\n",
       "      <td>DERMASON</td>\n",
       "    </tr>\n",
       "    <tr>\n",
       "      <th>13609</th>\n",
       "      <td>42147</td>\n",
       "      <td>763.779</td>\n",
       "      <td>283.382636</td>\n",
       "      <td>190.275731</td>\n",
       "      <td>1.489326</td>\n",
       "      <td>0.741055</td>\n",
       "      <td>42667</td>\n",
       "      <td>231.653248</td>\n",
       "      <td>0.705389</td>\n",
       "      <td>0.987813</td>\n",
       "      <td>0.907906</td>\n",
       "      <td>0.817457</td>\n",
       "      <td>0.006724</td>\n",
       "      <td>0.001852</td>\n",
       "      <td>0.668237</td>\n",
       "      <td>0.995222</td>\n",
       "      <td>DERMASON</td>\n",
       "    </tr>\n",
       "    <tr>\n",
       "      <th>13610</th>\n",
       "      <td>42159</td>\n",
       "      <td>772.237</td>\n",
       "      <td>295.142741</td>\n",
       "      <td>182.204716</td>\n",
       "      <td>1.619841</td>\n",
       "      <td>0.786693</td>\n",
       "      <td>42600</td>\n",
       "      <td>231.686223</td>\n",
       "      <td>0.788962</td>\n",
       "      <td>0.989648</td>\n",
       "      <td>0.888380</td>\n",
       "      <td>0.784997</td>\n",
       "      <td>0.007001</td>\n",
       "      <td>0.001640</td>\n",
       "      <td>0.616221</td>\n",
       "      <td>0.998180</td>\n",
       "      <td>DERMASON</td>\n",
       "    </tr>\n",
       "  </tbody>\n",
       "</table>\n",
       "<p>13611 rows × 17 columns</p>\n",
       "</div>"
      ],
      "text/plain": [
       "        Area  Perimeter  MajorAxisLength  MinorAxisLength  AspectRation  \\\n",
       "0      28395    610.291       208.178117       173.888747      1.197191   \n",
       "1      28734    638.018       200.524796       182.734419      1.097356   \n",
       "2      29380    624.110       212.826130       175.931143      1.209713   \n",
       "3      30008    645.884       210.557999       182.516516      1.153638   \n",
       "4      30140    620.134       201.847882       190.279279      1.060798   \n",
       "...      ...        ...              ...              ...           ...   \n",
       "13606  42097    759.696       288.721612       185.944705      1.552728   \n",
       "13607  42101    757.499       281.576392       190.713136      1.476439   \n",
       "13608  42139    759.321       281.539928       191.187979      1.472582   \n",
       "13609  42147    763.779       283.382636       190.275731      1.489326   \n",
       "13610  42159    772.237       295.142741       182.204716      1.619841   \n",
       "\n",
       "       Eccentricity  ConvexArea  EquivDiameter    Extent  Solidity  roundness  \\\n",
       "0          0.549812       28715     190.141097  0.763923  0.988856   0.958027   \n",
       "1          0.411785       29172     191.272750  0.783968  0.984986   0.887034   \n",
       "2          0.562727       29690     193.410904  0.778113  0.989559   0.947849   \n",
       "3          0.498616       30724     195.467062  0.782681  0.976696   0.903936   \n",
       "4          0.333680       30417     195.896503  0.773098  0.990893   0.984877   \n",
       "...             ...         ...            ...       ...       ...        ...   \n",
       "13606      0.765002       42508     231.515799  0.714574  0.990331   0.916603   \n",
       "13607      0.735702       42494     231.526798  0.799943  0.990752   0.922015   \n",
       "13608      0.734065       42569     231.631261  0.729932  0.989899   0.918424   \n",
       "13609      0.741055       42667     231.653248  0.705389  0.987813   0.907906   \n",
       "13610      0.786693       42600     231.686223  0.788962  0.989648   0.888380   \n",
       "\n",
       "       Compactness  ShapeFactor1  ShapeFactor2  ShapeFactor3  ShapeFactor4  \\\n",
       "0         0.913358      0.007332      0.003147      0.834222      0.998724   \n",
       "1         0.953861      0.006979      0.003564      0.909851      0.998430   \n",
       "2         0.908774      0.007244      0.003048      0.825871      0.999066   \n",
       "3         0.928329      0.007017      0.003215      0.861794      0.994199   \n",
       "4         0.970516      0.006697      0.003665      0.941900      0.999166   \n",
       "...            ...           ...           ...           ...           ...   \n",
       "13606     0.801865      0.006858      0.001749      0.642988      0.998385   \n",
       "13607     0.822252      0.006688      0.001886      0.676099      0.998219   \n",
       "13608     0.822730      0.006681      0.001888      0.676884      0.996767   \n",
       "13609     0.817457      0.006724      0.001852      0.668237      0.995222   \n",
       "13610     0.784997      0.007001      0.001640      0.616221      0.998180   \n",
       "\n",
       "          Class  \n",
       "0         SEKER  \n",
       "1         SEKER  \n",
       "2         SEKER  \n",
       "3         SEKER  \n",
       "4         SEKER  \n",
       "...         ...  \n",
       "13606  DERMASON  \n",
       "13607  DERMASON  \n",
       "13608  DERMASON  \n",
       "13609  DERMASON  \n",
       "13610  DERMASON  \n",
       "\n",
       "[13611 rows x 17 columns]"
      ]
     },
     "execution_count": 2,
     "metadata": {},
     "output_type": "execute_result"
    }
   ],
   "source": [
    "Data=pd.read_excel(\"C:\\\\Users\\\\HP\\\\Downloads/Dry_Bean_Dataset.xlsx\")\n",
    "Data"
   ]
  },
  {
   "cell_type": "code",
   "execution_count": 3,
   "id": "285f69a5",
   "metadata": {},
   "outputs": [
    {
     "data": {
      "text/html": [
       "<div>\n",
       "<style scoped>\n",
       "    .dataframe tbody tr th:only-of-type {\n",
       "        vertical-align: middle;\n",
       "    }\n",
       "\n",
       "    .dataframe tbody tr th {\n",
       "        vertical-align: top;\n",
       "    }\n",
       "\n",
       "    .dataframe thead th {\n",
       "        text-align: right;\n",
       "    }\n",
       "</style>\n",
       "<table border=\"1\" class=\"dataframe\">\n",
       "  <thead>\n",
       "    <tr style=\"text-align: right;\">\n",
       "      <th></th>\n",
       "      <th>Area</th>\n",
       "      <th>Perimeter</th>\n",
       "      <th>MajorAxisLength</th>\n",
       "      <th>MinorAxisLength</th>\n",
       "      <th>AspectRation</th>\n",
       "      <th>Eccentricity</th>\n",
       "      <th>ConvexArea</th>\n",
       "      <th>EquivDiameter</th>\n",
       "      <th>Extent</th>\n",
       "      <th>Solidity</th>\n",
       "      <th>roundness</th>\n",
       "      <th>Compactness</th>\n",
       "      <th>ShapeFactor1</th>\n",
       "      <th>ShapeFactor2</th>\n",
       "      <th>ShapeFactor3</th>\n",
       "      <th>ShapeFactor4</th>\n",
       "      <th>Class</th>\n",
       "    </tr>\n",
       "  </thead>\n",
       "  <tbody>\n",
       "    <tr>\n",
       "      <th>0</th>\n",
       "      <td>28395</td>\n",
       "      <td>610.291</td>\n",
       "      <td>208.178117</td>\n",
       "      <td>173.888747</td>\n",
       "      <td>1.197191</td>\n",
       "      <td>0.549812</td>\n",
       "      <td>28715</td>\n",
       "      <td>190.141097</td>\n",
       "      <td>0.763923</td>\n",
       "      <td>0.988856</td>\n",
       "      <td>0.958027</td>\n",
       "      <td>0.913358</td>\n",
       "      <td>0.007332</td>\n",
       "      <td>0.003147</td>\n",
       "      <td>0.834222</td>\n",
       "      <td>0.998724</td>\n",
       "      <td>SEKER</td>\n",
       "    </tr>\n",
       "    <tr>\n",
       "      <th>1</th>\n",
       "      <td>28734</td>\n",
       "      <td>638.018</td>\n",
       "      <td>200.524796</td>\n",
       "      <td>182.734419</td>\n",
       "      <td>1.097356</td>\n",
       "      <td>0.411785</td>\n",
       "      <td>29172</td>\n",
       "      <td>191.272750</td>\n",
       "      <td>0.783968</td>\n",
       "      <td>0.984986</td>\n",
       "      <td>0.887034</td>\n",
       "      <td>0.953861</td>\n",
       "      <td>0.006979</td>\n",
       "      <td>0.003564</td>\n",
       "      <td>0.909851</td>\n",
       "      <td>0.998430</td>\n",
       "      <td>SEKER</td>\n",
       "    </tr>\n",
       "    <tr>\n",
       "      <th>2</th>\n",
       "      <td>29380</td>\n",
       "      <td>624.110</td>\n",
       "      <td>212.826130</td>\n",
       "      <td>175.931143</td>\n",
       "      <td>1.209713</td>\n",
       "      <td>0.562727</td>\n",
       "      <td>29690</td>\n",
       "      <td>193.410904</td>\n",
       "      <td>0.778113</td>\n",
       "      <td>0.989559</td>\n",
       "      <td>0.947849</td>\n",
       "      <td>0.908774</td>\n",
       "      <td>0.007244</td>\n",
       "      <td>0.003048</td>\n",
       "      <td>0.825871</td>\n",
       "      <td>0.999066</td>\n",
       "      <td>SEKER</td>\n",
       "    </tr>\n",
       "    <tr>\n",
       "      <th>3</th>\n",
       "      <td>30008</td>\n",
       "      <td>645.884</td>\n",
       "      <td>210.557999</td>\n",
       "      <td>182.516516</td>\n",
       "      <td>1.153638</td>\n",
       "      <td>0.498616</td>\n",
       "      <td>30724</td>\n",
       "      <td>195.467062</td>\n",
       "      <td>0.782681</td>\n",
       "      <td>0.976696</td>\n",
       "      <td>0.903936</td>\n",
       "      <td>0.928329</td>\n",
       "      <td>0.007017</td>\n",
       "      <td>0.003215</td>\n",
       "      <td>0.861794</td>\n",
       "      <td>0.994199</td>\n",
       "      <td>SEKER</td>\n",
       "    </tr>\n",
       "    <tr>\n",
       "      <th>4</th>\n",
       "      <td>30140</td>\n",
       "      <td>620.134</td>\n",
       "      <td>201.847882</td>\n",
       "      <td>190.279279</td>\n",
       "      <td>1.060798</td>\n",
       "      <td>0.333680</td>\n",
       "      <td>30417</td>\n",
       "      <td>195.896503</td>\n",
       "      <td>0.773098</td>\n",
       "      <td>0.990893</td>\n",
       "      <td>0.984877</td>\n",
       "      <td>0.970516</td>\n",
       "      <td>0.006697</td>\n",
       "      <td>0.003665</td>\n",
       "      <td>0.941900</td>\n",
       "      <td>0.999166</td>\n",
       "      <td>SEKER</td>\n",
       "    </tr>\n",
       "  </tbody>\n",
       "</table>\n",
       "</div>"
      ],
      "text/plain": [
       "    Area  Perimeter  MajorAxisLength  MinorAxisLength  AspectRation  \\\n",
       "0  28395    610.291       208.178117       173.888747      1.197191   \n",
       "1  28734    638.018       200.524796       182.734419      1.097356   \n",
       "2  29380    624.110       212.826130       175.931143      1.209713   \n",
       "3  30008    645.884       210.557999       182.516516      1.153638   \n",
       "4  30140    620.134       201.847882       190.279279      1.060798   \n",
       "\n",
       "   Eccentricity  ConvexArea  EquivDiameter    Extent  Solidity  roundness  \\\n",
       "0      0.549812       28715     190.141097  0.763923  0.988856   0.958027   \n",
       "1      0.411785       29172     191.272750  0.783968  0.984986   0.887034   \n",
       "2      0.562727       29690     193.410904  0.778113  0.989559   0.947849   \n",
       "3      0.498616       30724     195.467062  0.782681  0.976696   0.903936   \n",
       "4      0.333680       30417     195.896503  0.773098  0.990893   0.984877   \n",
       "\n",
       "   Compactness  ShapeFactor1  ShapeFactor2  ShapeFactor3  ShapeFactor4  Class  \n",
       "0     0.913358      0.007332      0.003147      0.834222      0.998724  SEKER  \n",
       "1     0.953861      0.006979      0.003564      0.909851      0.998430  SEKER  \n",
       "2     0.908774      0.007244      0.003048      0.825871      0.999066  SEKER  \n",
       "3     0.928329      0.007017      0.003215      0.861794      0.994199  SEKER  \n",
       "4     0.970516      0.006697      0.003665      0.941900      0.999166  SEKER  "
      ]
     },
     "execution_count": 3,
     "metadata": {},
     "output_type": "execute_result"
    }
   ],
   "source": [
    "Data.head()"
   ]
  },
  {
   "cell_type": "code",
   "execution_count": 4,
   "id": "98a215f0",
   "metadata": {},
   "outputs": [
    {
     "data": {
      "text/plain": [
       "(13611, 17)"
      ]
     },
     "execution_count": 4,
     "metadata": {},
     "output_type": "execute_result"
    }
   ],
   "source": [
    "Data.shape"
   ]
  },
  {
   "cell_type": "code",
   "execution_count": 5,
   "id": "245d8e1d",
   "metadata": {},
   "outputs": [
    {
     "data": {
      "text/plain": [
       "Index(['Area', 'Perimeter', 'MajorAxisLength', 'MinorAxisLength',\n",
       "       'AspectRation', 'Eccentricity', 'ConvexArea', 'EquivDiameter', 'Extent',\n",
       "       'Solidity', 'roundness', 'Compactness', 'ShapeFactor1', 'ShapeFactor2',\n",
       "       'ShapeFactor3', 'ShapeFactor4', 'Class'],\n",
       "      dtype='object')"
      ]
     },
     "execution_count": 5,
     "metadata": {},
     "output_type": "execute_result"
    }
   ],
   "source": [
    "Data.columns"
   ]
  },
  {
   "cell_type": "code",
   "execution_count": 6,
   "id": "6003ef99",
   "metadata": {},
   "outputs": [
    {
     "data": {
      "text/plain": [
       "Area               0\n",
       "Perimeter          0\n",
       "MajorAxisLength    0\n",
       "MinorAxisLength    0\n",
       "AspectRation       0\n",
       "Eccentricity       0\n",
       "ConvexArea         0\n",
       "EquivDiameter      0\n",
       "Extent             0\n",
       "Solidity           0\n",
       "roundness          0\n",
       "Compactness        0\n",
       "ShapeFactor1       0\n",
       "ShapeFactor2       0\n",
       "ShapeFactor3       0\n",
       "ShapeFactor4       0\n",
       "Class              0\n",
       "dtype: int64"
      ]
     },
     "execution_count": 6,
     "metadata": {},
     "output_type": "execute_result"
    }
   ],
   "source": [
    "Data.isnull().sum()"
   ]
  },
  {
   "cell_type": "code",
   "execution_count": 7,
   "id": "9d591550",
   "metadata": {},
   "outputs": [
    {
     "data": {
      "text/plain": [
       "68"
      ]
     },
     "execution_count": 7,
     "metadata": {},
     "output_type": "execute_result"
    }
   ],
   "source": [
    "Data.duplicated().sum()"
   ]
  },
  {
   "cell_type": "code",
   "execution_count": 8,
   "id": "83072c0c",
   "metadata": {},
   "outputs": [],
   "source": [
    "Data.drop_duplicates(inplace=True)"
   ]
  },
  {
   "cell_type": "code",
   "execution_count": 9,
   "id": "640caefc",
   "metadata": {},
   "outputs": [
    {
     "data": {
      "text/plain": [
       "(13543, 17)"
      ]
     },
     "execution_count": 9,
     "metadata": {},
     "output_type": "execute_result"
    }
   ],
   "source": [
    "Data.shape"
   ]
  },
  {
   "cell_type": "code",
   "execution_count": 10,
   "id": "0cb470b6",
   "metadata": {},
   "outputs": [
    {
     "name": "stdout",
     "output_type": "stream",
     "text": [
      "<class 'pandas.core.frame.DataFrame'>\n",
      "Int64Index: 13543 entries, 0 to 13610\n",
      "Data columns (total 17 columns):\n",
      " #   Column           Non-Null Count  Dtype  \n",
      "---  ------           --------------  -----  \n",
      " 0   Area             13543 non-null  int64  \n",
      " 1   Perimeter        13543 non-null  float64\n",
      " 2   MajorAxisLength  13543 non-null  float64\n",
      " 3   MinorAxisLength  13543 non-null  float64\n",
      " 4   AspectRation     13543 non-null  float64\n",
      " 5   Eccentricity     13543 non-null  float64\n",
      " 6   ConvexArea       13543 non-null  int64  \n",
      " 7   EquivDiameter    13543 non-null  float64\n",
      " 8   Extent           13543 non-null  float64\n",
      " 9   Solidity         13543 non-null  float64\n",
      " 10  roundness        13543 non-null  float64\n",
      " 11  Compactness      13543 non-null  float64\n",
      " 12  ShapeFactor1     13543 non-null  float64\n",
      " 13  ShapeFactor2     13543 non-null  float64\n",
      " 14  ShapeFactor3     13543 non-null  float64\n",
      " 15  ShapeFactor4     13543 non-null  float64\n",
      " 16  Class            13543 non-null  object \n",
      "dtypes: float64(14), int64(2), object(1)\n",
      "memory usage: 1.9+ MB\n"
     ]
    }
   ],
   "source": [
    "Data.info()"
   ]
  },
  {
   "cell_type": "code",
   "execution_count": 11,
   "id": "4cf09ada",
   "metadata": {},
   "outputs": [
    {
     "data": {
      "text/html": [
       "<div>\n",
       "<style scoped>\n",
       "    .dataframe tbody tr th:only-of-type {\n",
       "        vertical-align: middle;\n",
       "    }\n",
       "\n",
       "    .dataframe tbody tr th {\n",
       "        vertical-align: top;\n",
       "    }\n",
       "\n",
       "    .dataframe thead th {\n",
       "        text-align: right;\n",
       "    }\n",
       "</style>\n",
       "<table border=\"1\" class=\"dataframe\">\n",
       "  <thead>\n",
       "    <tr style=\"text-align: right;\">\n",
       "      <th></th>\n",
       "      <th>count</th>\n",
       "      <th>mean</th>\n",
       "      <th>std</th>\n",
       "      <th>min</th>\n",
       "      <th>25%</th>\n",
       "      <th>50%</th>\n",
       "      <th>75%</th>\n",
       "      <th>max</th>\n",
       "    </tr>\n",
       "  </thead>\n",
       "  <tbody>\n",
       "    <tr>\n",
       "      <th>Area</th>\n",
       "      <td>13543.0</td>\n",
       "      <td>53048.460385</td>\n",
       "      <td>29392.438324</td>\n",
       "      <td>20420.000000</td>\n",
       "      <td>36282.500000</td>\n",
       "      <td>44580.000000</td>\n",
       "      <td>61382.000000</td>\n",
       "      <td>254616.000000</td>\n",
       "    </tr>\n",
       "    <tr>\n",
       "      <th>Perimeter</th>\n",
       "      <td>13543.0</td>\n",
       "      <td>854.993406</td>\n",
       "      <td>214.722684</td>\n",
       "      <td>524.736000</td>\n",
       "      <td>703.230000</td>\n",
       "      <td>793.896000</td>\n",
       "      <td>977.146500</td>\n",
       "      <td>1985.370000</td>\n",
       "    </tr>\n",
       "    <tr>\n",
       "      <th>MajorAxisLength</th>\n",
       "      <td>13543.0</td>\n",
       "      <td>319.895602</td>\n",
       "      <td>85.809260</td>\n",
       "      <td>183.601165</td>\n",
       "      <td>253.086806</td>\n",
       "      <td>296.404589</td>\n",
       "      <td>376.312489</td>\n",
       "      <td>738.860153</td>\n",
       "    </tr>\n",
       "    <tr>\n",
       "      <th>MinorAxisLength</th>\n",
       "      <td>13543.0</td>\n",
       "      <td>202.365321</td>\n",
       "      <td>45.051632</td>\n",
       "      <td>122.512653</td>\n",
       "      <td>175.886357</td>\n",
       "      <td>192.491117</td>\n",
       "      <td>217.245403</td>\n",
       "      <td>460.198497</td>\n",
       "    </tr>\n",
       "    <tr>\n",
       "      <th>AspectRation</th>\n",
       "      <td>13543.0</td>\n",
       "      <td>1.581075</td>\n",
       "      <td>0.245245</td>\n",
       "      <td>1.024868</td>\n",
       "      <td>1.430662</td>\n",
       "      <td>1.549860</td>\n",
       "      <td>1.703916</td>\n",
       "      <td>2.430306</td>\n",
       "    </tr>\n",
       "    <tr>\n",
       "      <th>Eccentricity</th>\n",
       "      <td>13543.0</td>\n",
       "      <td>0.750315</td>\n",
       "      <td>0.091858</td>\n",
       "      <td>0.218951</td>\n",
       "      <td>0.715144</td>\n",
       "      <td>0.763997</td>\n",
       "      <td>0.809671</td>\n",
       "      <td>0.911423</td>\n",
       "    </tr>\n",
       "    <tr>\n",
       "      <th>ConvexArea</th>\n",
       "      <td>13543.0</td>\n",
       "      <td>53767.986709</td>\n",
       "      <td>29844.248525</td>\n",
       "      <td>20684.000000</td>\n",
       "      <td>36673.000000</td>\n",
       "      <td>45122.000000</td>\n",
       "      <td>62360.000000</td>\n",
       "      <td>263261.000000</td>\n",
       "    </tr>\n",
       "    <tr>\n",
       "      <th>EquivDiameter</th>\n",
       "      <td>13543.0</td>\n",
       "      <td>253.034094</td>\n",
       "      <td>59.307709</td>\n",
       "      <td>161.243764</td>\n",
       "      <td>214.933277</td>\n",
       "      <td>238.245711</td>\n",
       "      <td>279.560351</td>\n",
       "      <td>569.374358</td>\n",
       "    </tr>\n",
       "    <tr>\n",
       "      <th>Extent</th>\n",
       "      <td>13543.0</td>\n",
       "      <td>0.749829</td>\n",
       "      <td>0.048939</td>\n",
       "      <td>0.555315</td>\n",
       "      <td>0.718735</td>\n",
       "      <td>0.759903</td>\n",
       "      <td>0.786849</td>\n",
       "      <td>0.866195</td>\n",
       "    </tr>\n",
       "    <tr>\n",
       "      <th>Solidity</th>\n",
       "      <td>13543.0</td>\n",
       "      <td>0.987152</td>\n",
       "      <td>0.004650</td>\n",
       "      <td>0.919246</td>\n",
       "      <td>0.985678</td>\n",
       "      <td>0.988288</td>\n",
       "      <td>0.990019</td>\n",
       "      <td>0.994677</td>\n",
       "    </tr>\n",
       "    <tr>\n",
       "      <th>roundness</th>\n",
       "      <td>13543.0</td>\n",
       "      <td>0.873671</td>\n",
       "      <td>0.059393</td>\n",
       "      <td>0.489618</td>\n",
       "      <td>0.833410</td>\n",
       "      <td>0.883490</td>\n",
       "      <td>0.917031</td>\n",
       "      <td>0.990685</td>\n",
       "    </tr>\n",
       "    <tr>\n",
       "      <th>Compactness</th>\n",
       "      <td>13543.0</td>\n",
       "      <td>0.800352</td>\n",
       "      <td>0.061464</td>\n",
       "      <td>0.640577</td>\n",
       "      <td>0.763228</td>\n",
       "      <td>0.801514</td>\n",
       "      <td>0.834470</td>\n",
       "      <td>0.987303</td>\n",
       "    </tr>\n",
       "    <tr>\n",
       "      <th>ShapeFactor1</th>\n",
       "      <td>13543.0</td>\n",
       "      <td>0.006561</td>\n",
       "      <td>0.001130</td>\n",
       "      <td>0.002778</td>\n",
       "      <td>0.005893</td>\n",
       "      <td>0.006643</td>\n",
       "      <td>0.007270</td>\n",
       "      <td>0.010451</td>\n",
       "    </tr>\n",
       "    <tr>\n",
       "      <th>ShapeFactor2</th>\n",
       "      <td>13543.0</td>\n",
       "      <td>0.001719</td>\n",
       "      <td>0.000595</td>\n",
       "      <td>0.000564</td>\n",
       "      <td>0.001158</td>\n",
       "      <td>0.001700</td>\n",
       "      <td>0.002173</td>\n",
       "      <td>0.003665</td>\n",
       "    </tr>\n",
       "    <tr>\n",
       "      <th>ShapeFactor3</th>\n",
       "      <td>13543.0</td>\n",
       "      <td>0.644341</td>\n",
       "      <td>0.098653</td>\n",
       "      <td>0.410339</td>\n",
       "      <td>0.582517</td>\n",
       "      <td>0.642424</td>\n",
       "      <td>0.696341</td>\n",
       "      <td>0.974767</td>\n",
       "    </tr>\n",
       "    <tr>\n",
       "      <th>ShapeFactor4</th>\n",
       "      <td>13543.0</td>\n",
       "      <td>0.995078</td>\n",
       "      <td>0.004347</td>\n",
       "      <td>0.947687</td>\n",
       "      <td>0.993720</td>\n",
       "      <td>0.996393</td>\n",
       "      <td>0.997891</td>\n",
       "      <td>0.999733</td>\n",
       "    </tr>\n",
       "  </tbody>\n",
       "</table>\n",
       "</div>"
      ],
      "text/plain": [
       "                   count          mean           std           min  \\\n",
       "Area             13543.0  53048.460385  29392.438324  20420.000000   \n",
       "Perimeter        13543.0    854.993406    214.722684    524.736000   \n",
       "MajorAxisLength  13543.0    319.895602     85.809260    183.601165   \n",
       "MinorAxisLength  13543.0    202.365321     45.051632    122.512653   \n",
       "AspectRation     13543.0      1.581075      0.245245      1.024868   \n",
       "Eccentricity     13543.0      0.750315      0.091858      0.218951   \n",
       "ConvexArea       13543.0  53767.986709  29844.248525  20684.000000   \n",
       "EquivDiameter    13543.0    253.034094     59.307709    161.243764   \n",
       "Extent           13543.0      0.749829      0.048939      0.555315   \n",
       "Solidity         13543.0      0.987152      0.004650      0.919246   \n",
       "roundness        13543.0      0.873671      0.059393      0.489618   \n",
       "Compactness      13543.0      0.800352      0.061464      0.640577   \n",
       "ShapeFactor1     13543.0      0.006561      0.001130      0.002778   \n",
       "ShapeFactor2     13543.0      0.001719      0.000595      0.000564   \n",
       "ShapeFactor3     13543.0      0.644341      0.098653      0.410339   \n",
       "ShapeFactor4     13543.0      0.995078      0.004347      0.947687   \n",
       "\n",
       "                          25%           50%           75%            max  \n",
       "Area             36282.500000  44580.000000  61382.000000  254616.000000  \n",
       "Perimeter          703.230000    793.896000    977.146500    1985.370000  \n",
       "MajorAxisLength    253.086806    296.404589    376.312489     738.860153  \n",
       "MinorAxisLength    175.886357    192.491117    217.245403     460.198497  \n",
       "AspectRation         1.430662      1.549860      1.703916       2.430306  \n",
       "Eccentricity         0.715144      0.763997      0.809671       0.911423  \n",
       "ConvexArea       36673.000000  45122.000000  62360.000000  263261.000000  \n",
       "EquivDiameter      214.933277    238.245711    279.560351     569.374358  \n",
       "Extent               0.718735      0.759903      0.786849       0.866195  \n",
       "Solidity             0.985678      0.988288      0.990019       0.994677  \n",
       "roundness            0.833410      0.883490      0.917031       0.990685  \n",
       "Compactness          0.763228      0.801514      0.834470       0.987303  \n",
       "ShapeFactor1         0.005893      0.006643      0.007270       0.010451  \n",
       "ShapeFactor2         0.001158      0.001700      0.002173       0.003665  \n",
       "ShapeFactor3         0.582517      0.642424      0.696341       0.974767  \n",
       "ShapeFactor4         0.993720      0.996393      0.997891       0.999733  "
      ]
     },
     "execution_count": 11,
     "metadata": {},
     "output_type": "execute_result"
    }
   ],
   "source": [
    "Data.describe().T"
   ]
  },
  {
   "cell_type": "code",
   "execution_count": 12,
   "id": "1759534b",
   "metadata": {},
   "outputs": [
    {
     "data": {
      "text/plain": [
       "Class\n",
       "DERMASON    3546\n",
       "SIRA        2636\n",
       "SEKER       2027\n",
       "HOROZ       1860\n",
       "CALI        1630\n",
       "BARBUNYA    1322\n",
       "BOMBAY       522\n",
       "dtype: int64"
      ]
     },
     "execution_count": 12,
     "metadata": {},
     "output_type": "execute_result"
    }
   ],
   "source": [
    "Data.value_counts(\"Class\")"
   ]
  },
  {
   "cell_type": "code",
   "execution_count": 13,
   "id": "633463fe",
   "metadata": {},
   "outputs": [
    {
     "name": "stderr",
     "output_type": "stream",
     "text": [
      "C:\\Users\\HP\\anaconda3\\lib\\site-packages\\seaborn\\_decorators.py:36: FutureWarning: Pass the following variable as a keyword arg: x. From version 0.12, the only valid positional argument will be `data`, and passing other arguments without an explicit keyword will result in an error or misinterpretation.\n",
      "  warnings.warn(\n"
     ]
    },
    {
     "data": {
      "text/plain": [
       "<AxesSubplot:xlabel='Class', ylabel='count'>"
      ]
     },
     "execution_count": 13,
     "metadata": {},
     "output_type": "execute_result"
    },
    {
     "data": {
      "image/png": "[encoded data removed]",
      "text/plain": [
       "<Figure size 640x480 with 1 Axes>"
      ]
     },
     "metadata": {},
     "output_type": "display_data"
    }
   ],
   "source": [
    "sns.countplot(Data[\"Class\"])"
   ]
  },
  {
   "cell_type": "code",
   "execution_count": 17,
   "id": "05afe132",
   "metadata": {},
   "outputs": [],
   "source": [
    "from sklearn.preprocessing import LabelEncoder\n",
    "lab=LabelEncoder()\n",
    "for i in  Data.columns:\n",
    "    if Data[i].dtype==\"object\":\n",
    "        Data[i]=lab.fit_transform(Data[i])\n"
   ]
  },
  {
   "cell_type": "code",
   "execution_count": 20,
   "id": "e2b5d64c",
   "metadata": {},
   "outputs": [
    {
     "data": {
      "text/plain": [
       "0        0\n",
       "1        0\n",
       "2        0\n",
       "3        0\n",
       "4        0\n",
       "        ..\n",
       "13606    6\n",
       "13607    6\n",
       "13608    6\n",
       "13609    6\n",
       "13610    6\n",
       "Name: class, Length: 13543, dtype: int64"
      ]
     },
     "execution_count": 20,
     "metadata": {},
     "output_type": "execute_result"
    }
   ],
   "source": [
    "Data['class']"
   ]
  },
  {
   "cell_type": "code",
   "execution_count": 21,
   "id": "32984dff",
   "metadata": {},
   "outputs": [
    {
     "name": "stderr",
     "output_type": "stream",
     "text": [
      "C:\\Users\\HP\\anaconda3\\lib\\site-packages\\seaborn\\_decorators.py:36: FutureWarning: Pass the following variable as a keyword arg: x. From version 0.12, the only valid positional argument will be `data`, and passing other arguments without an explicit keyword will result in an error or misinterpretation.\n",
      "  warnings.warn(\n"
     ]
    },
    {
     "data": {
      "image/png": "[encoded data removed]",
      "text/plain": [
       "<Figure size 640x480 with 1 Axes>"
      ]
     },
     "metadata": {},
     "output_type": "display_data"
    },
    {
     "name": "stderr",
     "output_type": "stream",
     "text": [
      "C:\\Users\\HP\\anaconda3\\lib\\site-packages\\seaborn\\_decorators.py:36: FutureWarning: Pass the following variable as a keyword arg: x. From version 0.12, the only valid positional argument will be `data`, and passing other arguments without an explicit keyword will result in an error or misinterpretation.\n",
      "  warnings.warn(\n"
     ]
    },
    {
     "data": {
      "image/png": "[encoded data removed]",
      "text/plain": [
       "<Figure size 640x480 with 1 Axes>"
      ]
     },
     "metadata": {},
     "output_type": "display_data"
    },
    {
     "name": "stderr",
     "output_type": "stream",
     "text": [
      "C:\\Users\\HP\\anaconda3\\lib\\site-packages\\seaborn\\_decorators.py:36: FutureWarning: Pass the following variable as a keyword arg: x. From version 0.12, the only valid positional argument will be `data`, and passing other arguments without an explicit keyword will result in an error or misinterpretation.\n",
      "  warnings.warn(\n"
     ]
    },
    {
     "data": {
      "image/png": "[encoded data removed]",
      "text/plain": [
       "<Figure size 640x480 with 1 Axes>"
      ]
     },
     "metadata": {},
     "output_type": "display_data"
    },
    {
     "name": "stderr",
     "output_type": "stream",
     "text": [
      "C:\\Users\\HP\\anaconda3\\lib\\site-packages\\seaborn\\_decorators.py:36: FutureWarning: Pass the following variable as a keyword arg: x. From version 0.12, the only valid positional argument will be `data`, and passing other arguments without an explicit keyword will result in an error or misinterpretation.\n",
      "  warnings.warn(\n"
     ]
    },
    {
     "data": {
      "image/png": "[encoded data removed]",
      "text/plain": [
       "<Figure size 640x480 with 1 Axes>"
      ]
     },
     "metadata": {},
     "output_type": "display_data"
    },
    {
     "name": "stderr",
     "output_type": "stream",
     "text": [
      "C:\\Users\\HP\\anaconda3\\lib\\site-packages\\seaborn\\_decorators.py:36: FutureWarning: Pass the following variable as a keyword arg: x. From version 0.12, the only valid positional argument will be `data`, and passing other arguments without an explicit keyword will result in an error or misinterpretation.\n",
      "  warnings.warn(\n"
     ]
    },
    {
     "data": {
      "image/png": "[encoded data removed]",
      "text/plain": [
       "<Figure size 640x480 with 1 Axes>"
      ]
     },
     "metadata": {},
     "output_type": "display_data"
    },
    {
     "name": "stderr",
     "output_type": "stream",
     "text": [
      "C:\\Users\\HP\\anaconda3\\lib\\site-packages\\seaborn\\_decorators.py:36: FutureWarning: Pass the following variable as a keyword arg: x. From version 0.12, the only valid positional argument will be `data`, and passing other arguments without an explicit keyword will result in an error or misinterpretation.\n",
      "  warnings.warn(\n"
     ]
    },
    {
     "data": {
      "image/png": "[encoded data removed]",
      "text/plain": [
       "<Figure size 640x480 with 1 Axes>"
      ]
     },
     "metadata": {},
     "output_type": "display_data"
    },
    {
     "name": "stderr",
     "output_type": "stream",
     "text": [
      "C:\\Users\\HP\\anaconda3\\lib\\site-packages\\seaborn\\_decorators.py:36: FutureWarning: Pass the following variable as a keyword arg: x. From version 0.12, the only valid positional argument will be `data`, and passing other arguments without an explicit keyword will result in an error or misinterpretation.\n",
      "  warnings.warn(\n"
     ]
    },
    {
     "data": {
      "image/png": "[encoded data removed]",
      "text/plain": [
       "<Figure size 640x480 with 1 Axes>"
      ]
     },
     "metadata": {},
     "output_type": "display_data"
    },
    {
     "name": "stderr",
     "output_type": "stream",
     "text": [
      "C:\\Users\\HP\\anaconda3\\lib\\site-packages\\seaborn\\_decorators.py:36: FutureWarning: Pass the following variable as a keyword arg: x. From version 0.12, the only valid positional argument will be `data`, and passing other arguments without an explicit keyword will result in an error or misinterpretation.\n",
      "  warnings.warn(\n"
     ]
    },
    {
     "data": {
      "image/png": "[encoded data removed]",
      "text/plain": [
       "<Figure size 640x480 with 1 Axes>"
      ]
     },
     "metadata": {},
     "output_type": "display_data"
    },
    {
     "name": "stderr",
     "output_type": "stream",
     "text": [
      "C:\\Users\\HP\\anaconda3\\lib\\site-packages\\seaborn\\_decorators.py:36: FutureWarning: Pass the following variable as a keyword arg: x. From version 0.12, the only valid positional argument will be `data`, and passing other arguments without an explicit keyword will result in an error or misinterpretation.\n",
      "  warnings.warn(\n"
     ]
    },
    {
     "data": {
      "image/png": "[encoded data removed]",
      "text/plain": [
       "<Figure size 640x480 with 1 Axes>"
      ]
     },
     "metadata": {},
     "output_type": "display_data"
    },
    {
     "name": "stderr",
     "output_type": "stream",
     "text": [
      "C:\\Users\\HP\\anaconda3\\lib\\site-packages\\seaborn\\_decorators.py:36: FutureWarning: Pass the following variable as a keyword arg: x. From version 0.12, the only valid positional argument will be `data`, and passing other arguments without an explicit keyword will result in an error or misinterpretation.\n",
      "  warnings.warn(\n"
     ]
    },
    {
     "data": {
      "image/png": "[encoded data removed]",
      "text/plain": [
       "<Figure size 640x480 with 1 Axes>"
      ]
     },
     "metadata": {},
     "output_type": "display_data"
    },
    {
     "name": "stderr",
     "output_type": "stream",
     "text": [
      "C:\\Users\\HP\\anaconda3\\lib\\site-packages\\seaborn\\_decorators.py:36: FutureWarning: Pass the following variable as a keyword arg: x. From version 0.12, the only valid positional argument will be `data`, and passing other arguments without an explicit keyword will result in an error or misinterpretation.\n",
      "  warnings.warn(\n"
     ]
    },
    {
     "data": {
      "image/png": "[encoded data removed]",
      "text/plain": [
       "<Figure size 640x480 with 1 Axes>"
      ]
     },
     "metadata": {},
     "output_type": "display_data"
    },
    {
     "name": "stderr",
     "output_type": "stream",
     "text": [
      "C:\\Users\\HP\\anaconda3\\lib\\site-packages\\seaborn\\_decorators.py:36: FutureWarning: Pass the following variable as a keyword arg: x. From version 0.12, the only valid positional argument will be `data`, and passing other arguments without an explicit keyword will result in an error or misinterpretation.\n",
      "  warnings.warn(\n"
     ]
    },
    {
     "data": {
      "image/png": "[encoded data removed]",
      "text/plain": [
       "<Figure size 640x480 with 1 Axes>"
      ]
     },
     "metadata": {},
     "output_type": "display_data"
    },
    {
     "name": "stderr",
     "output_type": "stream",
     "text": [
      "C:\\Users\\HP\\anaconda3\\lib\\site-packages\\seaborn\\_decorators.py:36: FutureWarning: Pass the following variable as a keyword arg: x. From version 0.12, the only valid positional argument will be `data`, and passing other arguments without an explicit keyword will result in an error or misinterpretation.\n",
      "  warnings.warn(\n"
     ]
    },
    {
     "data": {
      "image/png": "[encoded data removed]",
      "text/plain": [
       "<Figure size 640x480 with 1 Axes>"
      ]
     },
     "metadata": {},
     "output_type": "display_data"
    },
    {
     "name": "stderr",
     "output_type": "stream",
     "text": [
      "C:\\Users\\HP\\anaconda3\\lib\\site-packages\\seaborn\\_decorators.py:36: FutureWarning: Pass the following variable as a keyword arg: x. From version 0.12, the only valid positional argument will be `data`, and passing other arguments without an explicit keyword will result in an error or misinterpretation.\n",
      "  warnings.warn(\n"
     ]
    },
    {
     "data": {
      "image/png": "[encoded data removed]",
      "text/plain": [
       "<Figure size 640x480 with 1 Axes>"
      ]
     },
     "metadata": {},
     "output_type": "display_data"
    },
    {
     "name": "stderr",
     "output_type": "stream",
     "text": [
      "C:\\Users\\HP\\anaconda3\\lib\\site-packages\\seaborn\\_decorators.py:36: FutureWarning: Pass the following variable as a keyword arg: x. From version 0.12, the only valid positional argument will be `data`, and passing other arguments without an explicit keyword will result in an error or misinterpretation.\n",
      "  warnings.warn(\n"
     ]
    },
    {
     "data": {
      "image/png": "[encoded data removed]",
      "text/plain": [
       "<Figure size 640x480 with 1 Axes>"
      ]
     },
     "metadata": {},
     "output_type": "display_data"
    },
    {
     "name": "stderr",
     "output_type": "stream",
     "text": [
      "C:\\Users\\HP\\anaconda3\\lib\\site-packages\\seaborn\\_decorators.py:36: FutureWarning: Pass the following variable as a keyword arg: x. From version 0.12, the only valid positional argument will be `data`, and passing other arguments without an explicit keyword will result in an error or misinterpretation.\n",
      "  warnings.warn(\n"
     ]
    },
    {
     "data": {
      "image/png": "[encoded data removed]",
      "text/plain": [
       "<Figure size 640x480 with 1 Axes>"
      ]
     },
     "metadata": {},
     "output_type": "display_data"
    },
    {
     "name": "stderr",
     "output_type": "stream",
     "text": [
      "C:\\Users\\HP\\anaconda3\\lib\\site-packages\\seaborn\\_decorators.py:36: FutureWarning: Pass the following variable as a keyword arg: x. From version 0.12, the only valid positional argument will be `data`, and passing other arguments without an explicit keyword will result in an error or misinterpretation.\n",
      "  warnings.warn(\n"
     ]
    },
    {
     "data": {
      "image/png": "[encoded data removed]",
      "text/plain": [
       "<Figure size 640x480 with 1 Axes>"
      ]
     },
     "metadata": {},
     "output_type": "display_data"
    }
   ],
   "source": [
    "for i in Data.columns:\n",
    "    sns.boxplot(Data[i])\n",
    "    plt.show()"
   ]
  },
  {
   "cell_type": "code",
   "execution_count": 22,
   "id": "b7a5c014",
   "metadata": {},
   "outputs": [
    {
     "name": "stdout",
     "output_type": "stream",
     "text": [
      "IQR= 25099.5\n",
      "Lower_Fence= Area = -1366.75\n",
      "Upper_Fence= Area = 99031.25\n",
      "\n",
      "IQR= 273.91650000000004\n",
      "Lower_Fence= Perimeter = 292.35524999999996\n",
      "Upper_Fence= Perimeter = 1388.0212500000002\n",
      "\n",
      "IQR= 123.2256824204625\n",
      "Lower_Fence= MajorAxisLength = 68.24828273067922\n",
      "Upper_Fence= MajorAxisLength = 561.1510124125293\n",
      "\n",
      "IQR= 41.35904641301249\n",
      "Lower_Fence= MinorAxisLength = 113.84778744577926\n",
      "Upper_Fence= MinorAxisLength = 279.28397309782923\n",
      "\n",
      "IQR= 0.27325420475555995\n",
      "Lower_Fence= AspectRation = 1.020780277676745\n",
      "Upper_Fence= AspectRation = 2.1137970966989847\n",
      "\n",
      "IQR= 0.09452757866267802\n",
      "Lower_Fence= Eccentricity = 0.5733524682314974\n",
      "Upper_Fence= Eccentricity = 0.9514627828822095\n",
      "\n",
      "IQR= 25687.0\n",
      "Lower_Fence= ConvexArea = -1857.5\n",
      "Upper_Fence= ConvexArea = 100890.5\n",
      "\n",
      "IQR= 64.62707346184601\n",
      "Lower_Fence= EquivDiameter = 117.99266690549351\n",
      "Upper_Fence= EquivDiameter = 376.5009607528775\n",
      "\n",
      "IQR= 0.06811365474604347\n",
      "Lower_Fence= Extent = 0.6165646627040458\n",
      "Upper_Fence= Extent = 0.8890192816882196\n",
      "\n",
      "IQR= 0.004340454790552006\n",
      "Lower_Fence= Solidity = 0.9791675892033764\n",
      "Upper_Fence= Solidity = 0.9965294083655845\n",
      "\n",
      "IQR= 0.08362144851466047\n",
      "Lower_Fence= roundness = 0.7079773536884043\n",
      "Upper_Fence= roundness = 1.0424631477470463\n",
      "\n",
      "IQR= 0.07124206188083848\n",
      "Lower_Fence= Compactness = 0.6563650544031288\n",
      "Upper_Fence= Compactness = 0.9413333019264827\n",
      "\n",
      "IQR= 0.0013772564589727594\n",
      "Lower_Fence= ShapeFactor1 = 0.003827204296440106\n",
      "Upper_Fence= ShapeFactor1 = 0.009336230132331143\n",
      "\n",
      "IQR= 0.00101435549486258\n",
      "Lower_Fence= ShapeFactor2 = -0.00036309229795623\n",
      "Upper_Fence= ShapeFactor2 = 0.00369432968149409\n",
      "\n",
      "IQR= 0.1138233253698111\n",
      "Lower_Fence= ShapeFactor3 = 0.4117822166871663\n",
      "Upper_Fence= ShapeFactor3 = 0.8670755181664107\n",
      "\n",
      "IQR= 0.0041714625324614785\n",
      "Lower_Fence= ShapeFactor4 = 0.9874627108335132\n",
      "Upper_Fence= ShapeFactor4 = 1.0041485609633591\n",
      "\n",
      "IQR= 4.0\n",
      "Lower_Fence= class = -4.0\n",
      "Upper_Fence= class = 12.0\n",
      "\n"
     ]
    }
   ],
   "source": [
    "for i in Data.columns:\n",
    "    Q1=np.quantile(Data[i],0.25)\n",
    "    Q2=np.quantile(Data[i],0.50)\n",
    "    Q3=np.quantile(Data[i],0.75)\n",
    "    Q4=np.quantile(Data[i],1.0)\n",
    "    IQR=Q3-Q1\n",
    "    print(\"IQR=\",IQR)\n",
    "    Lower_Fence=Q1-(1.5*IQR)\n",
    "    Upper_Fence=Q3+(1.5*IQR)\n",
    "    print(\"Lower_Fence=\", i +\" = \"+ str(Lower_Fence) )\n",
    "    print(\"Upper_Fence=\", i +\" = \"+ str(Upper_Fence) )\n",
    "    print()"
   ]
  },
  {
   "cell_type": "code",
   "execution_count": 23,
   "id": "50440e06",
   "metadata": {},
   "outputs": [],
   "source": [
    "Data1=Data.copy()"
   ]
  },
  {
   "cell_type": "code",
   "execution_count": 24,
   "id": "2bc8ea3c",
   "metadata": {},
   "outputs": [],
   "source": [
    "Data1['Area']=np.where(Data1['Area']>99031.25,99031.25,\n",
    "                         np.where(Data1['Area']<-1366.75,-1366.75,Data1['Area']))\n",
    "Data1['Perimeter']=np.where(Data1['Perimeter']>1388.0212500000002,1388.0212500000002,\n",
    "                         np.where(Data1['Perimeter']<292.35524999999996,292.35524999999996,Data1['Perimeter']))\n",
    "\n",
    "Data1['MajorAxisLength'] = np.where(Data1['MajorAxisLength']>561.15101,561.15101,\n",
    "                         np.where(Data1['MajorAxisLength']<68.2482,68.2482,Data1['MajorAxisLength']))\n",
    "\n",
    "Data1['MinorAxisLength'] = np.where(Data1['MinorAxisLength']> 279.2839, 279.2839,\n",
    "                         np.where(Data1['MinorAxisLength']<113.847,113.847,Data1['MinorAxisLength']))\n",
    "\n",
    "Data1['AspectRation'] = np.where(Data1['AspectRation']>2.113 , 2.113,\n",
    "                         np.where(Data1['AspectRation']<1.020,1.020,Data1['AspectRation']))\n",
    "\n",
    "\n",
    "Data1['Eccentricity'] = np.where(Data1['Eccentricity']>0.951 , 0.951,\n",
    "                         np.where(Data1['Eccentricity']< 0.573, 0.573,Data1['Eccentricity']))\n",
    "\n",
    "\n",
    "Data1['ConvexArea'] =  np.where(Data1['ConvexArea']>100890.5 , 100890.5,\n",
    "                         np.where(Data1['ConvexArea']< -1857.5,-1857.5,Data1['ConvexArea']))\n",
    "\n",
    "\n",
    "Data1['EquivDiameter'] =np.where(Data1['EquivDiameter']>376.50 ,376.50 ,\n",
    "                         np.where(Data1['EquivDiameter']< 117.99,117.99,Data1['EquivDiameter']))\n",
    "\n",
    "\n",
    "Data1['Extent'] = np.where(Data1['Extent']>0.889 ,0.889 ,\n",
    "                         np.where(Data1['Extent']<0.616 ,0.616,Data1['Extent']))\n",
    "\n",
    "\n",
    "Data1['Solidity'] = np.where(Data1['Solidity']> 0.9965294083655845 , 0.9965294083655845 ,\n",
    "                         np.where(Data1['Solidity']<0.9791675892033764 ,0.9791675892033764,Data1['Solidity']))\n",
    "\n",
    "\n",
    "Data1['roundness'] = np.where(Data1['roundness']>1.0424631477470463 ,1.0424631477470463,\n",
    "                         np.where(Data1['roundness']< 0.7079773536884043 , 0.7079773536884043,Data1['roundness']))\n",
    "\n",
    "\n",
    "\n",
    "Data1['Compactness'] = np.where(Data1['Compactness']>0.9413,0.9413 ,\n",
    "                         np.where(Data1['Compactness']< 0.6563,0.6563,Data1['Compactness']))\n",
    "\n",
    "\n",
    "\n",
    "Data1['ShapeFactor1'] =np.where(Data1['ShapeFactor1']> 0.0093, 0.0093 ,\n",
    "                         np.where(Data1['ShapeFactor1']< 0.0038,0.0038,Data1['ShapeFactor1']))\n",
    "\n",
    "\n",
    "Data1['ShapeFactor2'] =  np.where(Data1['ShapeFactor2']>0.00369 ,0.00369 ,\n",
    "                         np.where(Data1['ShapeFactor2']<-0.00036309 ,-0.00036309,Data1['ShapeFactor2']))\n",
    "\n",
    "\n",
    "Data1['ShapeFactor3'] = np.where(Data1['ShapeFactor3']> 0.8670755181664107,0.8670755181664107 ,\n",
    "                         np.where(Data1['ShapeFactor3']<0.4117822166871663 ,0.4117822166871663,Data1['ShapeFactor3']))\n",
    "\n",
    "\n",
    "Data1['ShapeFactor4'] = np.where(Data1['ShapeFactor4']>1.004148560963359 ,1.004148560963359,\n",
    "                         np.where(Data1['ShapeFactor4']<0.9874627108335132 ,0.9874627108335132,Data1['ShapeFactor4']))"
   ]
  },
  {
   "cell_type": "code",
   "execution_count": 25,
   "id": "ede289f3",
   "metadata": {},
   "outputs": [
    {
     "name": "stderr",
     "output_type": "stream",
     "text": [
      "C:\\Users\\HP\\anaconda3\\lib\\site-packages\\seaborn\\_decorators.py:36: FutureWarning: Pass the following variable as a keyword arg: x. From version 0.12, the only valid positional argument will be `data`, and passing other arguments without an explicit keyword will result in an error or misinterpretation.\n",
      "  warnings.warn(\n"
     ]
    },
    {
     "data": {
      "image/png": "[encoded data removed]",
      "text/plain": [
       "<Figure size 640x480 with 1 Axes>"
      ]
     },
     "metadata": {},
     "output_type": "display_data"
    },
    {
     "name": "stderr",
     "output_type": "stream",
     "text": [
      "C:\\Users\\HP\\anaconda3\\lib\\site-packages\\seaborn\\_decorators.py:36: FutureWarning: Pass the following variable as a keyword arg: x. From version 0.12, the only valid positional argument will be `data`, and passing other arguments without an explicit keyword will result in an error or misinterpretation.\n",
      "  warnings.warn(\n"
     ]
    },
    {
     "data": {
      "image/png": "[encoded data removed]",
      "text/plain": [
       "<Figure size 640x480 with 1 Axes>"
      ]
     },
     "metadata": {},
     "output_type": "display_data"
    },
    {
     "name": "stderr",
     "output_type": "stream",
     "text": [
      "C:\\Users\\HP\\anaconda3\\lib\\site-packages\\seaborn\\_decorators.py:36: FutureWarning: Pass the following variable as a keyword arg: x. From version 0.12, the only valid positional argument will be `data`, and passing other arguments without an explicit keyword will result in an error or misinterpretation.\n",
      "  warnings.warn(\n"
     ]
    },
    {
     "data": {
      "image/png": "[encoded data removed]",
      "text/plain": [
       "<Figure size 640x480 with 1 Axes>"
      ]
     },
     "metadata": {},
     "output_type": "display_data"
    },
    {
     "name": "stderr",
     "output_type": "stream",
     "text": [
      "C:\\Users\\HP\\anaconda3\\lib\\site-packages\\seaborn\\_decorators.py:36: FutureWarning: Pass the following variable as a keyword arg: x. From version 0.12, the only valid positional argument will be `data`, and passing other arguments without an explicit keyword will result in an error or misinterpretation.\n",
      "  warnings.warn(\n"
     ]
    },
    {
     "data": {
      "image/png": "[encoded data removed]",
      "text/plain": [
       "<Figure size 640x480 with 1 Axes>"
      ]
     },
     "metadata": {},
     "output_type": "display_data"
    },
    {
     "name": "stderr",
     "output_type": "stream",
     "text": [
      "C:\\Users\\HP\\anaconda3\\lib\\site-packages\\seaborn\\_decorators.py:36: FutureWarning: Pass the following variable as a keyword arg: x. From version 0.12, the only valid positional argument will be `data`, and passing other arguments without an explicit keyword will result in an error or misinterpretation.\n",
      "  warnings.warn(\n"
     ]
    },
    {
     "data": {
      "image/png": "[encoded data removed]",
      "text/plain": [
       "<Figure size 640x480 with 1 Axes>"
      ]
     },
     "metadata": {},
     "output_type": "display_data"
    },
    {
     "name": "stderr",
     "output_type": "stream",
     "text": [
      "C:\\Users\\HP\\anaconda3\\lib\\site-packages\\seaborn\\_decorators.py:36: FutureWarning: Pass the following variable as a keyword arg: x. From version 0.12, the only valid positional argument will be `data`, and passing other arguments without an explicit keyword will result in an error or misinterpretation.\n",
      "  warnings.warn(\n"
     ]
    },
    {
     "data": {
      "image/png": "[encoded data removed]",
      "text/plain": [
       "<Figure size 640x480 with 1 Axes>"
      ]
     },
     "metadata": {},
     "output_type": "display_data"
    },
    {
     "name": "stderr",
     "output_type": "stream",
     "text": [
      "C:\\Users\\HP\\anaconda3\\lib\\site-packages\\seaborn\\_decorators.py:36: FutureWarning: Pass the following variable as a keyword arg: x. From version 0.12, the only valid positional argument will be `data`, and passing other arguments without an explicit keyword will result in an error or misinterpretation.\n",
      "  warnings.warn(\n"
     ]
    },
    {
     "data": {
      "image/png": "[encoded data removed]",
      "text/plain": [
       "<Figure size 640x480 with 1 Axes>"
      ]
     },
     "metadata": {},
     "output_type": "display_data"
    },
    {
     "name": "stderr",
     "output_type": "stream",
     "text": [
      "C:\\Users\\HP\\anaconda3\\lib\\site-packages\\seaborn\\_decorators.py:36: FutureWarning: Pass the following variable as a keyword arg: x. From version 0.12, the only valid positional argument will be `data`, and passing other arguments without an explicit keyword will result in an error or misinterpretation.\n",
      "  warnings.warn(\n"
     ]
    },
    {
     "data": {
      "image/png": "[encoded data removed]",
      "text/plain": [
       "<Figure size 640x480 with 1 Axes>"
      ]
     },
     "metadata": {},
     "output_type": "display_data"
    },
    {
     "name": "stderr",
     "output_type": "stream",
     "text": [
      "C:\\Users\\HP\\anaconda3\\lib\\site-packages\\seaborn\\_decorators.py:36: FutureWarning: Pass the following variable as a keyword arg: x. From version 0.12, the only valid positional argument will be `data`, and passing other arguments without an explicit keyword will result in an error or misinterpretation.\n",
      "  warnings.warn(\n"
     ]
    },
    {
     "data": {
      "image/png": "[encoded data removed]",
      "text/plain": [
       "<Figure size 640x480 with 1 Axes>"
      ]
     },
     "metadata": {},
     "output_type": "display_data"
    },
    {
     "name": "stderr",
     "output_type": "stream",
     "text": [
      "C:\\Users\\HP\\anaconda3\\lib\\site-packages\\seaborn\\_decorators.py:36: FutureWarning: Pass the following variable as a keyword arg: x. From version 0.12, the only valid positional argument will be `data`, and passing other arguments without an explicit keyword will result in an error or misinterpretation.\n",
      "  warnings.warn(\n"
     ]
    },
    {
     "data": {
      "image/png": "[encoded data removed]",
      "text/plain": [
       "<Figure size 640x480 with 1 Axes>"
      ]
     },
     "metadata": {},
     "output_type": "display_data"
    },
    {
     "name": "stderr",
     "output_type": "stream",
     "text": [
      "C:\\Users\\HP\\anaconda3\\lib\\site-packages\\seaborn\\_decorators.py:36: FutureWarning: Pass the following variable as a keyword arg: x. From version 0.12, the only valid positional argument will be `data`, and passing other arguments without an explicit keyword will result in an error or misinterpretation.\n",
      "  warnings.warn(\n"
     ]
    },
    {
     "data": {
      "image/png": "[encoded data removed]",
      "text/plain": [
       "<Figure size 640x480 with 1 Axes>"
      ]
     },
     "metadata": {},
     "output_type": "display_data"
    },
    {
     "name": "stderr",
     "output_type": "stream",
     "text": [
      "C:\\Users\\HP\\anaconda3\\lib\\site-packages\\seaborn\\_decorators.py:36: FutureWarning: Pass the following variable as a keyword arg: x. From version 0.12, the only valid positional argument will be `data`, and passing other arguments without an explicit keyword will result in an error or misinterpretation.\n",
      "  warnings.warn(\n"
     ]
    },
    {
     "data": {
      "image/png": "[encoded data removed]",
      "text/plain": [
       "<Figure size 640x480 with 1 Axes>"
      ]
     },
     "metadata": {},
     "output_type": "display_data"
    },
    {
     "name": "stderr",
     "output_type": "stream",
     "text": [
      "C:\\Users\\HP\\anaconda3\\lib\\site-packages\\seaborn\\_decorators.py:36: FutureWarning: Pass the following variable as a keyword arg: x. From version 0.12, the only valid positional argument will be `data`, and passing other arguments without an explicit keyword will result in an error or misinterpretation.\n",
      "  warnings.warn(\n"
     ]
    },
    {
     "data": {
      "image/png": "[encoded data removed]",
      "text/plain": [
       "<Figure size 640x480 with 1 Axes>"
      ]
     },
     "metadata": {},
     "output_type": "display_data"
    },
    {
     "name": "stderr",
     "output_type": "stream",
     "text": [
      "C:\\Users\\HP\\anaconda3\\lib\\site-packages\\seaborn\\_decorators.py:36: FutureWarning: Pass the following variable as a keyword arg: x. From version 0.12, the only valid positional argument will be `data`, and passing other arguments without an explicit keyword will result in an error or misinterpretation.\n",
      "  warnings.warn(\n"
     ]
    },
    {
     "data": {
      "image/png": "[encoded data removed]",
      "text/plain": [
       "<Figure size 640x480 with 1 Axes>"
      ]
     },
     "metadata": {},
     "output_type": "display_data"
    },
    {
     "name": "stderr",
     "output_type": "stream",
     "text": [
      "C:\\Users\\HP\\anaconda3\\lib\\site-packages\\seaborn\\_decorators.py:36: FutureWarning: Pass the following variable as a keyword arg: x. From version 0.12, the only valid positional argument will be `data`, and passing other arguments without an explicit keyword will result in an error or misinterpretation.\n",
      "  warnings.warn(\n"
     ]
    },
    {
     "data": {
      "image/png": "[encoded data removed]",
      "text/plain": [
       "<Figure size 640x480 with 1 Axes>"
      ]
     },
     "metadata": {},
     "output_type": "display_data"
    },
    {
     "name": "stderr",
     "output_type": "stream",
     "text": [
      "C:\\Users\\HP\\anaconda3\\lib\\site-packages\\seaborn\\_decorators.py:36: FutureWarning: Pass the following variable as a keyword arg: x. From version 0.12, the only valid positional argument will be `data`, and passing other arguments without an explicit keyword will result in an error or misinterpretation.\n",
      "  warnings.warn(\n"
     ]
    },
    {
     "data": {
      "image/png": "[encoded data removed]",
      "text/plain": [
       "<Figure size 640x480 with 1 Axes>"
      ]
     },
     "metadata": {},
     "output_type": "display_data"
    },
    {
     "name": "stderr",
     "output_type": "stream",
     "text": [
      "C:\\Users\\HP\\anaconda3\\lib\\site-packages\\seaborn\\_decorators.py:36: FutureWarning: Pass the following variable as a keyword arg: x. From version 0.12, the only valid positional argument will be `data`, and passing other arguments without an explicit keyword will result in an error or misinterpretation.\n",
      "  warnings.warn(\n"
     ]
    },
    {
     "data": {
      "image/png": "[encoded data removed]",
      "text/plain": [
       "<Figure size 640x480 with 1 Axes>"
      ]
     },
     "metadata": {},
     "output_type": "display_data"
    }
   ],
   "source": [
    "for i in Data1.columns:\n",
    "    sns.boxplot(Data1[i])\n",
    "    plt.show()"
   ]
  },
  {
   "cell_type": "code",
   "execution_count": 26,
   "id": "8547d789",
   "metadata": {},
   "outputs": [],
   "source": [
    "X=Data1.drop(['class'],axis=1)\n"
   ]
  },
  {
   "cell_type": "code",
   "execution_count": 27,
   "id": "6dcb5fd5",
   "metadata": {},
   "outputs": [],
   "source": [
    "Y = Data1['class']\n"
   ]
  },
  {
   "cell_type": "code",
   "execution_count": 28,
   "id": "e3dce080",
   "metadata": {},
   "outputs": [
    {
     "data": {
      "text/plain": [
       "((13543, 16), (13543,))"
      ]
     },
     "execution_count": 28,
     "metadata": {},
     "output_type": "execute_result"
    }
   ],
   "source": [
    "X.shape,Y.shape"
   ]
  },
  {
   "cell_type": "code",
   "execution_count": 29,
   "id": "3113b23e",
   "metadata": {},
   "outputs": [],
   "source": [
    "from sklearn.preprocessing import StandardScaler"
   ]
  },
  {
   "cell_type": "code",
   "execution_count": 30,
   "id": "1d663dcd",
   "metadata": {},
   "outputs": [],
   "source": [
    "std = StandardScaler()"
   ]
  },
  {
   "cell_type": "code",
   "execution_count": 31,
   "id": "acedfdbc",
   "metadata": {},
   "outputs": [
    {
     "data": {
      "text/plain": [
       "array([[-1.15418153, -1.25185373, -1.3696987 , ...,  2.39827994,\n",
       "         1.94592648,  1.02024284],\n",
       "       [-1.13621035, -1.10542007, -1.46487912, ...,  3.09747107,\n",
       "         2.28198031,  0.93091011],\n",
       "       [-1.10196439, -1.17887192, -1.31189375, ...,  2.23108594,\n",
       "         1.86049642,  1.1243927 ],\n",
       "       ...,\n",
       "       [-0.42558012, -0.46478664, -0.45733554, ...,  0.28388754,\n",
       "         0.33651776,  0.42482086],\n",
       "       [-0.42515602, -0.44124275, -0.43441873, ...,  0.22301752,\n",
       "         0.24806291, -0.04529203],\n",
       "       [-0.42451987, -0.3965738 , -0.28816435, ..., -0.13337374,\n",
       "        -0.28400837,  0.85461691]])"
      ]
     },
     "execution_count": 31,
     "metadata": {},
     "output_type": "execute_result"
    }
   ],
   "source": [
    "X1 = std.fit_transform(X)\n",
    "X1"
   ]
  },
  {
   "cell_type": "code",
   "execution_count": 33,
   "id": "cfc811ba",
   "metadata": {},
   "outputs": [
    {
     "data": {
      "text/plain": [
       "((10834, 16), (2709, 16), (10834,), (2709,))"
      ]
     },
     "execution_count": 33,
     "metadata": {},
     "output_type": "execute_result"
    }
   ],
   "source": [
    "from sklearn.model_selection import train_test_split\n",
    "x_train,x_test,y_train,y_test=train_test_split(X1,Y,train_size=0.8,random_state=0)\n",
    "x_train.shape,x_test.shape,y_train.shape,y_test.shape"
   ]
  },
  {
   "cell_type": "code",
   "execution_count": 34,
   "id": "46542492",
   "metadata": {},
   "outputs": [
    {
     "name": "stderr",
     "output_type": "stream",
     "text": [
      "C:\\Users\\HP\\anaconda3\\lib\\site-packages\\sklearn\\linear_model\\_logistic.py:814: ConvergenceWarning: lbfgs failed to converge (status=1):\n",
      "STOP: TOTAL NO. of ITERATIONS REACHED LIMIT.\n",
      "\n",
      "Increase the number of iterations (max_iter) or scale the data as shown in:\n",
      "    https://scikit-learn.org/stable/modules/preprocessing.html\n",
      "Please also refer to the documentation for alternative solver options:\n",
      "    https://scikit-learn.org/stable/modules/linear_model.html#logistic-regression\n",
      "  n_iter_i = _check_optimize_result(\n"
     ]
    },
    {
     "data": {
      "text/plain": [
       "LogisticRegression()"
      ]
     },
     "execution_count": 34,
     "metadata": {},
     "output_type": "execute_result"
    }
   ],
   "source": [
    "from sklearn.linear_model import LogisticRegression\n",
    "lg=LogisticRegression()\n",
    "lg.fit(x_train,y_train)"
   ]
  },
  {
   "cell_type": "code",
   "execution_count": 35,
   "id": "a4e0a9ee",
   "metadata": {},
   "outputs": [
    {
     "data": {
      "text/plain": [
       "array([6, 5, 3, ..., 6, 3, 6], dtype=int64)"
      ]
     },
     "execution_count": 35,
     "metadata": {},
     "output_type": "execute_result"
    }
   ],
   "source": [
    "y_pred=lg.predict(x_test)\n",
    "y_pred"
   ]
  },
  {
   "cell_type": "code",
   "execution_count": 36,
   "id": "5aed75dd",
   "metadata": {},
   "outputs": [
    {
     "data": {
      "text/plain": [
       "0.9228497600590624"
      ]
     },
     "execution_count": 36,
     "metadata": {},
     "output_type": "execute_result"
    }
   ],
   "source": [
    "lg.score(x_test,y_test)"
   ]
  },
  {
   "cell_type": "code",
   "execution_count": 37,
   "id": "15bc7876",
   "metadata": {},
   "outputs": [
    {
     "data": {
      "text/plain": [
       "0.925881484216356"
      ]
     },
     "execution_count": 37,
     "metadata": {},
     "output_type": "execute_result"
    }
   ],
   "source": [
    "lg.score(x_train,y_train)"
   ]
  },
  {
   "cell_type": "code",
   "execution_count": 38,
   "id": "54a56f89",
   "metadata": {},
   "outputs": [],
   "source": [
    "from sklearn.metrics import classification_report,roc_curve,confusion_matrix,accuracy_score,auc,roc_auc_score"
   ]
  },
  {
   "cell_type": "code",
   "execution_count": 39,
   "id": "3b57e64c",
   "metadata": {},
   "outputs": [
    {
     "data": {
      "text/plain": [
       "array([[361,   0,   0,   0,   0,  13,   1],\n",
       "       [  3, 230,   0,  16,   1,   7,   0],\n",
       "       [  0,   0,  95,   0,   0,   0,   0],\n",
       "       [  1,   7,   0, 322,   6,   3,   0],\n",
       "       [  0,   2,   0,   5, 350,  11,   5],\n",
       "       [  9,   1,   0,   0,  10, 456,  52],\n",
       "       [ 14,   0,   0,   0,   2,  40, 686]], dtype=int64)"
      ]
     },
     "execution_count": 39,
     "metadata": {},
     "output_type": "execute_result"
    }
   ],
   "source": [
    "con1=confusion_matrix(y_test,y_pred)\n",
    "con1"
   ]
  },
  {
   "cell_type": "code",
   "execution_count": 40,
   "id": "7cd068e2",
   "metadata": {},
   "outputs": [
    {
     "name": "stdout",
     "output_type": "stream",
     "text": [
      "              precision    recall  f1-score   support\n",
      "\n",
      "           0       0.93      0.96      0.95       375\n",
      "           1       0.96      0.89      0.93       257\n",
      "           2       1.00      1.00      1.00        95\n",
      "           3       0.94      0.95      0.94       339\n",
      "           4       0.95      0.94      0.94       373\n",
      "           5       0.86      0.86      0.86       528\n",
      "           6       0.92      0.92      0.92       742\n",
      "\n",
      "    accuracy                           0.92      2709\n",
      "   macro avg       0.94      0.93      0.93      2709\n",
      "weighted avg       0.92      0.92      0.92      2709\n",
      "\n"
     ]
    }
   ],
   "source": [
    "Report=classification_report(y_test,y_pred)\n",
    "print(Report)"
   ]
  },
  {
   "cell_type": "code",
   "execution_count": null,
   "id": "fa524fb4",
   "metadata": {},
   "outputs": [],
   "source": []
  }
 ],
 "metadata": {
  "kernelspec": {
   "display_name": "Python 3 (ipykernel)",
   "language": "python",
   "name": "python3"
  },
  "language_info": {
   "codemirror_mode": {
    "name": "ipython",
    "version": 3
   },
   "file_extension": ".py",
   "mimetype": "text/x-python",
   "name": "python",
   "nbconvert_exporter": "python",
   "pygments_lexer": "ipython3",
   "version": "3.9.13"
  }
 },
 "nbformat": 4,
 "nbformat_minor": 5
}
